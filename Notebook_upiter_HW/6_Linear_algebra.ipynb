{
 "cells": [
  {
   "cell_type": "markdown",
   "metadata": {},
   "source": [
    "# Linear algebra"
   ]
  },
  {
   "cell_type": "code",
   "execution_count": 1,
   "metadata": {},
   "outputs": [],
   "source": [
    "import numpy as np"
   ]
  },
  {
   "cell_type": "code",
   "execution_count": 2,
   "metadata": {
    "collapsed": false,
    "jupyter": {
     "outputs_hidden": false
    }
   },
   "outputs": [
    {
     "data": {
      "text/plain": [
       "'2.2.3'"
      ]
     },
     "execution_count": 2,
     "metadata": {},
     "output_type": "execute_result"
    }
   ],
   "source": [
    "np.__version__"
   ]
  },
  {
   "cell_type": "markdown",
   "metadata": {},
   "source": [
    "## Matrix and vector products"
   ]
  },
  {
   "cell_type": "markdown",
   "metadata": {},
   "source": [
    "Q1. Predict the results of the following code."
   ]
  },
  {
   "cell_type": "code",
   "execution_count": 5,
   "metadata": {
    "collapsed": false,
    "jupyter": {
     "outputs_hidden": false
    }
   },
   "outputs": [
    {
     "name": "stdout",
     "output_type": "stream",
     "text": [
      "[8 5]\n",
      "[6 6]\n",
      "[8 5]\n",
      "[6 6]\n",
      "[6 6]\n"
     ]
    }
   ],
   "source": [
    "x = [1,2]\n",
    "y = [[4, 1], [2, 2]]\n",
    "#print np.dot(x, y)\n",
    "#print np.dot(y, x)\n",
    "#print np.matmul(x, y)\n",
    "#print np.inner(x, y)\n",
    "#print np.inner(y, x)\n",
    "Prediction:\n",
    "[8 5]\n",
    "[6 6]\n",
    "[8 5]\n",
    "[6 6]\n",
    "[6 6]"
   ]
  },
  {
   "cell_type": "markdown",
   "metadata": {},
   "source": [
    "Q2. Predict the results of the following code."
   ]
  },
  {
   "cell_type": "code",
   "execution_count": null,
   "metadata": {},
   "outputs": [],
   "source": [
    "x = [[1, 0], [0, 1]]\n",
    "y = [[4, 1], [2, 2], [1, 1]]\n",
    "#print np.dot(y, x)\n",
    "#print np.matmul(y, x)\n",
    "Prediction:\n",
    "[[4 1]\n",
    " [2 2]\n",
    " [1 1]]\n",
    "[[4 1]\n",
    " [2 2]\n",
    " [1 1]]"
   ]
  },
  {
   "cell_type": "markdown",
   "metadata": {},
   "source": [
    "Q3. Predict the results of the following code."
   ]
  },
  {
   "cell_type": "code",
   "execution_count": 10,
   "metadata": {
    "collapsed": false,
    "jupyter": {
     "outputs_hidden": false
    }
   },
   "outputs": [
    {
     "data": {
      "text/plain": [
       "30"
      ]
     },
     "execution_count": 10,
     "metadata": {},
     "output_type": "execute_result"
    }
   ],
   "source": [
    "x = np.array([[1, 4], [5, 6]])\n",
    "y = np.array([[4, 1], [2, 2]])\n",
    "#print np.vdot(x, y)\n",
    "#print np.vdot(y, x)\n",
    "#print np.dot(x.flatten(), y.flatten())\n",
    "#print np.inner(x.flatten(), y.flatten())\n",
    "#print (x*y).sum()\n",
    "Prediction:\n",
    "30\n",
    "30\n",
    "30\n",
    "30\n",
    "30"
   ]
  },
  {
   "cell_type": "markdown",
   "metadata": {},
   "source": [
    "Q4. Predict the results of the following code."
   ]
  },
  {
   "cell_type": "code",
   "execution_count": 12,
   "metadata": {
    "collapsed": false,
    "jupyter": {
     "outputs_hidden": false
    }
   },
   "outputs": [],
   "source": [
    "x = np.array(['a', 'b'], dtype=object)\n",
    "y = np.array([1, 2])\n",
    "#print np.inner(x, y)\n",
    "#print np.inner(y, x)\n",
    "#print np.outer(x, y)\n",
    "#print np.outer(y, x)\n",
    "Prediction:\n",
    "abb\n",
    "abb\n",
    "[['a' 'aa']\n",
    " ['b' 'bb']]\n",
    "[['a' 'b']\n",
    " ['aa' 'bb']]"
   ]
  },
  {
   "cell_type": "markdown",
   "metadata": {},
   "source": [
    "## Decompositions"
   ]
  },
  {
   "cell_type": "markdown",
   "metadata": {},
   "source": [
    "Q5. Get the lower-trianglular `L` in the Cholesky decomposition of x and verify it."
   ]
  },
  {
   "cell_type": "code",
   "execution_count": 14,
   "metadata": {
    "collapsed": false,
    "jupyter": {
     "outputs_hidden": false
    }
   },
   "outputs": [
    {
     "name": "stdout",
     "output_type": "stream",
     "text": [
      "[[ 2.  0.  0.]\n",
      " [ 6.  1.  0.]\n",
      " [-8.  5.  3.]]\n"
     ]
    }
   ],
   "source": [
    "x = np.array([[4, 12, -16], [12, 37, -43], [-16, -43, 98]], dtype=np.int32)\n",
    "L = np.linalg.cholesky(x)\n",
    "print (L)\n",
    "assert np.array_equal(np.dot(L, L.T.conjugate()), x)"
   ]
  },
  {
   "cell_type": "markdown",
   "metadata": {},
   "source": [
    "Q6. Compute the qr factorization of x and verify it."
   ]
  },
  {
   "cell_type": "code",
   "execution_count": 22,
   "metadata": {
    "collapsed": false,
    "jupyter": {
     "outputs_hidden": false
    }
   },
   "outputs": [
    {
     "name": "stdout",
     "output_type": "stream",
     "text": [
      "q= [[-0.85714287  0.3942857   0.33142856]\n",
      " [-0.42857143 -0.9028571  -0.03428571]\n",
      " [ 0.2857143  -0.17142858  0.94285715]] \n",
      "r= [[ -14.  -21.   14.]\n",
      " [   0. -175.   70.]\n",
      " [   0.    0.  -35.]]\n"
     ]
    }
   ],
   "source": [
    "x = np.array([[12, -51, 4], [6, 167, -68], [-4, 24, -41]], dtype=np.float32)\n",
    "q, r = np.linalg.qr(x)\n",
    "print (\"q=\", q, \"\\nr=\", r)\n",
    "assert np.allclose(np.dot(q, r), x)"
   ]
  },
  {
   "cell_type": "markdown",
   "metadata": {},
   "source": [
    "Q7. Factor x by Singular Value Decomposition and verify it."
   ]
  },
  {
   "cell_type": "code",
   "execution_count": 25,
   "metadata": {
    "collapsed": false,
    "jupyter": {
     "outputs_hidden": false
    }
   },
   "outputs": [
    {
     "name": "stdout",
     "output_type": "stream",
     "text": [
      "U= [[ 0.  1.  0.  0.]\n",
      " [ 1.  0.  0.  0.]\n",
      " [ 0.  0.  0.  1.]\n",
      " [ 0.  0. -1.  0.]] \n",
      "s= [3.       2.236068 2.       0.      ] \n",
      "V= [[-0.         0.         1.        -0.         0.       ]\n",
      " [ 0.4472136  0.         0.         0.         0.8944272]\n",
      " [ 0.        -1.         0.         0.         0.       ]\n",
      " [ 0.         0.         0.         1.         0.       ]]\n"
     ]
    }
   ],
   "source": [
    "x = np.array([[1, 0, 0, 0, 2], [0, 0, 3, 0, 0], [0, 0, 0, 0, 0], [0, 2, 0, 0, 0]], dtype=np.float32)\n",
    "U, s, V = np.linalg.svd(x, full_matrices=False)\n",
    "print (\"U=\", U, \"\\ns=\", s, \"\\nV=\", V)\n",
    "assert np.allclose(np.dot(U, np.dot(np.diag(s), V)), x)"
   ]
  },
  {
   "cell_type": "markdown",
   "metadata": {},
   "source": [
    "## Matrix eigenvalues"
   ]
  },
  {
   "cell_type": "markdown",
   "metadata": {},
   "source": [
    "Q8. Compute the eigenvalues and right eigenvectors of x. (Name them eigenvals and eigenvecs, respectively)"
   ]
  },
  {
   "cell_type": "code",
   "execution_count": 28,
   "metadata": {
    "collapsed": false,
    "jupyter": {
     "outputs_hidden": false
    }
   },
   "outputs": [
    {
     "name": "stdout",
     "output_type": "stream",
     "text": [
      "eigenvalues are\n",
      " [1. 2. 3.]\n",
      "eigenvectors are\n",
      " [[1. 0. 0.]\n",
      " [0. 1. 0.]\n",
      " [0. 0. 1.]]\n"
     ]
    }
   ],
   "source": [
    "x = np.diag((1, 2, 3))\n",
    "y = np.linalg.eig(x)[0]\n",
    "t = np.linalg.eigvals(x)\n",
    "assert np.array_equal(y, t)\n",
    "print (\"eigenvalues are\\n\", y)\n",
    "y = np.linalg.eig(x)[1]\n",
    "print (\"eigenvectors are\\n\", y)"
   ]
  },
  {
   "cell_type": "markdown",
   "metadata": {},
   "source": [
    "Q9. Predict the results of the following code."
   ]
  },
  {
   "cell_type": "code",
   "execution_count": 31,
   "metadata": {
    "collapsed": false,
    "jupyter": {
     "outputs_hidden": false
    }
   },
   "outputs": [
    {
     "ename": "SyntaxError",
     "evalue": "invalid syntax (3480842295.py, line 2)",
     "output_type": "error",
     "traceback": [
      "\u001b[1;36m  Cell \u001b[1;32mIn[31], line 2\u001b[1;36m\u001b[0m\n\u001b[1;33m    prediction:\u001b[0m\n\u001b[1;37m               ^\u001b[0m\n\u001b[1;31mSyntaxError\u001b[0m\u001b[1;31m:\u001b[0m invalid syntax\n"
     ]
    }
   ],
   "source": [
    "#print np.array_equal(np.dot(x, eigenvecs), eigenvals * eigenvecs)\n",
    "prediction:\n",
    "true"
   ]
  },
  {
   "cell_type": "markdown",
   "metadata": {},
   "source": [
    "## Norms and other numbers"
   ]
  },
  {
   "cell_type": "markdown",
   "metadata": {},
   "source": [
    "Q10. Calculate the Frobenius norm and the condition number of x."
   ]
  },
  {
   "cell_type": "code",
   "execution_count": 33,
   "metadata": {
    "collapsed": false,
    "jupyter": {
     "outputs_hidden": false
    }
   },
   "outputs": [
    {
     "name": "stdout",
     "output_type": "stream",
     "text": [
      "16.881943016134134\n",
      "inf\n"
     ]
    }
   ],
   "source": [
    "x = np.arange(1, 10).reshape((3, 3))\n",
    "y=np.linalg.norm(x, 'fro')\n",
    "z=np.linalg.cond(x, 'fro')\n",
    "print (y)\n",
    "print (z)"
   ]
  },
  {
   "cell_type": "markdown",
   "metadata": {},
   "source": [
    "Q11. Calculate the determinant of x."
   ]
  },
  {
   "cell_type": "code",
   "execution_count": 34,
   "metadata": {
    "collapsed": false,
    "jupyter": {
     "outputs_hidden": false
    }
   },
   "outputs": [
    {
     "name": "stdout",
     "output_type": "stream",
     "text": [
      "-2.0000000000000004\n"
     ]
    }
   ],
   "source": [
    "x = np.arange(1, 5).reshape((2, 2))\n",
    "x = np.arange(1, 5).reshape((2, 2))\n",
    "y1 = np.linalg.det(x)\n",
    "y2 = x[0, 0] * x[1, 1] - x[0, 1] * x[1, 0]\n",
    "assert np.allclose(y1, y2)\n",
    "print (y1)"
   ]
  },
  {
   "cell_type": "markdown",
   "metadata": {},
   "source": [
    "Q12. Calculate the rank of x."
   ]
  },
  {
   "cell_type": "code",
   "execution_count": 35,
   "metadata": {
    "collapsed": false,
    "jupyter": {
     "outputs_hidden": false
    }
   },
   "outputs": [
    {
     "name": "stdout",
     "output_type": "stream",
     "text": [
      "4\n"
     ]
    }
   ],
   "source": [
    "x = np.eye(4)\n",
    "y1 = np.linalg.matrix_rank(x)\n",
    "y2 = np.linalg.svd(x)[1].size\n",
    "assert y1 == y2\n",
    "print (y1)"
   ]
  },
  {
   "cell_type": "markdown",
   "metadata": {},
   "source": [
    "Q13. Compute the sign and natural logarithm of the determinant of x."
   ]
  },
  {
   "cell_type": "code",
   "execution_count": 37,
   "metadata": {
    "collapsed": false,
    "jupyter": {
     "outputs_hidden": false
    }
   },
   "outputs": [
    {
     "name": "stdout",
     "output_type": "stream",
     "text": [
      "-1.0 0.6931471805599455\n"
     ]
    }
   ],
   "source": [
    "x = np.arange(1, 5).reshape((2, 2))\n",
    "z, a = np.linalg.slogdet(x)\n",
    "y = np.linalg.det(x)\n",
    "assert z == np.sign(y)\n",
    "assert a == np.log(np.abs(y))\n",
    "print (z, a)"
   ]
  },
  {
   "cell_type": "markdown",
   "metadata": {},
   "source": [
    "Q14. Return the sum along the diagonal of x."
   ]
  },
  {
   "cell_type": "code",
   "execution_count": 40,
   "metadata": {
    "collapsed": false,
    "jupyter": {
     "outputs_hidden": false
    }
   },
   "outputs": [
    {
     "name": "stdout",
     "output_type": "stream",
     "text": [
      "4.0\n"
     ]
    }
   ],
   "source": [
    "x = np.eye(4)\n",
    "y1 = np.trace(x)\n",
    "y2 = x.diagonal().sum()\n",
    "assert y1 == y2\n",
    "print (y1)"
   ]
  },
  {
   "cell_type": "markdown",
   "metadata": {},
   "source": [
    "## Solving equations and inverting matrices"
   ]
  },
  {
   "cell_type": "markdown",
   "metadata": {
    "collapsed": false,
    "jupyter": {
     "outputs_hidden": false
    }
   },
   "source": [
    "Q15. Compute the inverse of x."
   ]
  },
  {
   "cell_type": "code",
   "execution_count": 41,
   "metadata": {
    "collapsed": false,
    "jupyter": {
     "outputs_hidden": false
    }
   },
   "outputs": [
    {
     "name": "stdout",
     "output_type": "stream",
     "text": [
      "[[-2.   1. ]\n",
      " [ 1.5 -0.5]]\n"
     ]
    }
   ],
   "source": [
    "x = np.array([[1., 2.], [3., 4.]])\n",
    "y = np.linalg.inv(x)\n",
    "assert np.allclose(np.dot(x, y), np.eye(2))\n",
    "print (y)"
   ]
  },
  {
   "cell_type": "code",
   "execution_count": null,
   "metadata": {},
   "outputs": [],
   "source": []
  }
 ],
 "metadata": {
  "kernelspec": {
   "display_name": "Python 3 (ipykernel)",
   "language": "python",
   "name": "python3"
  },
  "language_info": {
   "codemirror_mode": {
    "name": "ipython",
    "version": 3
   },
   "file_extension": ".py",
   "mimetype": "text/x-python",
   "name": "python",
   "nbconvert_exporter": "python",
   "pygments_lexer": "ipython3",
   "version": "3.11.9"
  }
 },
 "nbformat": 4,
 "nbformat_minor": 4
}
